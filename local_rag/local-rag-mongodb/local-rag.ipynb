{
 "cells": [
  {
   "cell_type": "code",
   "execution_count": 1,
   "id": "093d0e3a",
   "metadata": {},
   "outputs": [
    {
     "name": "stderr",
     "output_type": "stream",
     "text": [
      "/opt/miniconda3/envs/local-mongodb-rag-chatbot/lib/python3.11/site-packages/tqdm/auto.py:21: TqdmWarning: IProgress not found. Please update jupyter and ipywidgets. See https://ipywidgets.readthedocs.io/en/stable/user_install.html\n",
      "  from .autonotebook import tqdm as notebook_tqdm\n"
     ]
    }
   ],
   "source": [
    "from pymongo import MongoClient\n",
    "from sentence_transformers import SentenceTransformer\n"
   ]
  },
  {
   "cell_type": "code",
   "execution_count": 2,
   "id": "9f1c7d4d",
   "metadata": {},
   "outputs": [],
   "source": [
    "# Connect to your local MongoDB deployment\n",
    "client = MongoClient(\"mongodb://localhost:62834/?directConnection=true&serverSelectionTimeoutMS=2000&appName=local-rag\")\n",
    "# Select the sample_airbnb.listingsAndReviews collection\n",
    "collection = client[\"sample_airbnb\"][\"listingsAndReviews\"]"
   ]
  },
  {
   "cell_type": "code",
   "execution_count": 3,
   "id": "17867190",
   "metadata": {},
   "outputs": [],
   "source": [
    "model_path = \"/Users/dharmendra.kumar/.cache/huggingface/hub/models--mixedbread-ai--mxbai-embed-large-v1\"\n",
    "model = SentenceTransformer('mixedbread-ai/mxbai-embed-large-v1')\n",
    "\n"
   ]
  },
  {
   "cell_type": "code",
   "execution_count": 8,
   "id": "f580a117",
   "metadata": {},
   "outputs": [
    {
     "name": "stdout",
     "output_type": "stream",
     "text": [
      "BertConfig {\n",
      "  \"architectures\": [\n",
      "    \"BertModel\"\n",
      "  ],\n",
      "  \"attention_probs_dropout_prob\": 0.1,\n",
      "  \"classifier_dropout\": null,\n",
      "  \"dtype\": \"float32\",\n",
      "  \"gradient_checkpointing\": false,\n",
      "  \"hidden_act\": \"gelu\",\n",
      "  \"hidden_dropout_prob\": 0.1,\n",
      "  \"hidden_size\": 1024,\n",
      "  \"initializer_range\": 0.02,\n",
      "  \"intermediate_size\": 4096,\n",
      "  \"layer_norm_eps\": 1e-12,\n",
      "  \"max_position_embeddings\": 512,\n",
      "  \"model_type\": \"bert\",\n",
      "  \"num_attention_heads\": 16,\n",
      "  \"num_hidden_layers\": 24,\n",
      "  \"pad_token_id\": 0,\n",
      "  \"position_embedding_type\": \"absolute\",\n",
      "  \"transformers_version\": \"4.57.1\",\n",
      "  \"type_vocab_size\": 2,\n",
      "  \"use_cache\": false,\n",
      "  \"vocab_size\": 30522\n",
      "}\n",
      "\n"
     ]
    }
   ],
   "source": [
    "print(model._first_module().auto_model.config)"
   ]
  },
  {
   "cell_type": "code",
   "execution_count": 10,
   "id": "0bf114f0",
   "metadata": {},
   "outputs": [
    {
     "name": "stdout",
     "output_type": "stream",
     "text": [
      "BertModel(\n",
      "  (embeddings): BertEmbeddings(\n",
      "    (word_embeddings): Embedding(30522, 1024, padding_idx=0)\n",
      "    (position_embeddings): Embedding(512, 1024)\n",
      "    (token_type_embeddings): Embedding(2, 1024)\n",
      "    (LayerNorm): LayerNorm((1024,), eps=1e-12, elementwise_affine=True)\n",
      "    (dropout): Dropout(p=0.1, inplace=False)\n",
      "  )\n",
      "  (encoder): BertEncoder(\n",
      "    (layer): ModuleList(\n",
      "      (0-23): 24 x BertLayer(\n",
      "        (attention): BertAttention(\n",
      "          (self): BertSdpaSelfAttention(\n",
      "            (query): Linear(in_features=1024, out_features=1024, bias=True)\n",
      "            (key): Linear(in_features=1024, out_features=1024, bias=True)\n",
      "            (value): Linear(in_features=1024, out_features=1024, bias=True)\n",
      "            (dropout): Dropout(p=0.1, inplace=False)\n",
      "          )\n",
      "          (output): BertSelfOutput(\n",
      "            (dense): Linear(in_features=1024, out_features=1024, bias=True)\n",
      "            (LayerNorm): LayerNorm((1024,), eps=1e-12, elementwise_affine=True)\n",
      "            (dropout): Dropout(p=0.1, inplace=False)\n",
      "          )\n",
      "        )\n",
      "        (intermediate): BertIntermediate(\n",
      "          (dense): Linear(in_features=1024, out_features=4096, bias=True)\n",
      "          (intermediate_act_fn): GELUActivation()\n",
      "        )\n",
      "        (output): BertOutput(\n",
      "          (dense): Linear(in_features=4096, out_features=1024, bias=True)\n",
      "          (LayerNorm): LayerNorm((1024,), eps=1e-12, elementwise_affine=True)\n",
      "          (dropout): Dropout(p=0.1, inplace=False)\n",
      "        )\n",
      "      )\n",
      "    )\n",
      "  )\n",
      "  (pooler): BertPooler(\n",
      "    (dense): Linear(in_features=1024, out_features=1024, bias=True)\n",
      "    (activation): Tanh()\n",
      "  )\n",
      ")\n",
      "BertConfig {\n",
      "  \"architectures\": [\n",
      "    \"BertModel\"\n",
      "  ],\n",
      "  \"attention_probs_dropout_prob\": 0.1,\n",
      "  \"classifier_dropout\": null,\n",
      "  \"dtype\": \"float32\",\n",
      "  \"gradient_checkpointing\": false,\n",
      "  \"hidden_act\": \"gelu\",\n",
      "  \"hidden_dropout_prob\": 0.1,\n",
      "  \"hidden_size\": 1024,\n",
      "  \"initializer_range\": 0.02,\n",
      "  \"intermediate_size\": 4096,\n",
      "  \"layer_norm_eps\": 1e-12,\n",
      "  \"max_position_embeddings\": 512,\n",
      "  \"model_type\": \"bert\",\n",
      "  \"num_attention_heads\": 16,\n",
      "  \"num_hidden_layers\": 24,\n",
      "  \"pad_token_id\": 0,\n",
      "  \"position_embedding_type\": \"absolute\",\n",
      "  \"transformers_version\": \"4.57.1\",\n",
      "  \"type_vocab_size\": 2,\n",
      "  \"use_cache\": false,\n",
      "  \"vocab_size\": 30522\n",
      "}\n",
      "\n",
      "335141888\n"
     ]
    }
   ],
   "source": [
    "transformer = model._first_module().auto_model\n",
    "print(transformer)                 # Full transformer model\n",
    "print(transformer.config)          # Transformer config (num_layers, hidden_size etc.)\n",
    "print(transformer.num_parameters())"
   ]
  },
  {
   "cell_type": "code",
   "execution_count": 11,
   "id": "5c51356c",
   "metadata": {},
   "outputs": [],
   "source": [
    "# Define function to generate embeddings\n",
    "def get_embedding(text):\n",
    "    return model.encode(text).tolist()"
   ]
  },
  {
   "cell_type": "code",
   "execution_count": 12,
   "id": "662e385d",
   "metadata": {},
   "outputs": [],
   "source": [
    "filter = { '$and': [ { 'summary': { '$exists': True, \"$nin\": [ None, \"\" ] } }, { 'embeddings': { '$exists': False } } ] }"
   ]
  },
  {
   "cell_type": "code",
   "execution_count": 13,
   "id": "a2a1e3ea",
   "metadata": {},
   "outputs": [
    {
     "name": "stdout",
     "output_type": "stream",
     "text": [
      "Documents updated: 50\n"
     ]
    }
   ],
   "source": [
    "updated_doc_count = 0\n",
    "for document in collection.find(filter).limit(50):\n",
    "    text = document['summary']\n",
    "    embedding = get_embedding(text)\n",
    "    collection.update_one({ '_id': document['_id'] }, { \"$set\": { 'embeddings': embedding } }, upsert=True)\n",
    "    updated_doc_count += 1\n",
    "print(\"Documents updated: {}\".format(updated_doc_count))"
   ]
  },
  {
   "cell_type": "code",
   "execution_count": 14,
   "id": "6f3f3080",
   "metadata": {},
   "outputs": [],
   "source": [
    "from pymongo.operations import SearchIndexModel"
   ]
  },
  {
   "cell_type": "code",
   "execution_count": 15,
   "id": "4d9433f9",
   "metadata": {},
   "outputs": [
    {
     "data": {
      "text/plain": [
       "'vector_index'"
      ]
     },
     "execution_count": 15,
     "metadata": {},
     "output_type": "execute_result"
    }
   ],
   "source": [
    "# Create your index model, then create the search index\n",
    "search_index_model = SearchIndexModel(\n",
    "  definition = {\n",
    "    \"fields\": [\n",
    "      {\n",
    "        \"type\": \"vector\",\n",
    "        \"numDimensions\": 1024,\n",
    "        \"path\": \"embeddings\",\n",
    "        \"similarity\": \"cosine\"\n",
    "      }\n",
    "    ]\n",
    "  },\n",
    "  name = \"vector_index\",\n",
    "  type = \"vectorSearch\" \n",
    ")\n",
    "collection.create_search_index(model=search_index_model)\n"
   ]
  },
  {
   "cell_type": "code",
   "execution_count": 16,
   "id": "c905d6a6",
   "metadata": {},
   "outputs": [],
   "source": [
    "# Function to get the results of a vector search query\n",
    "def get_query_results(query):\n",
    "   query_embedding = get_embedding(query)\n",
    "\n",
    "   pipeline = [\n",
    "      {\n",
    "            \"$vectorSearch\": {\n",
    "               \"index\": \"vector_index\",\n",
    "               \"queryVector\": query_embedding,\n",
    "               \"path\": \"embeddings\",\n",
    "               \"exact\": True,\n",
    "               \"limit\": 5\n",
    "            }\n",
    "      }, {\n",
    "            \"$project\": {\n",
    "               \"_id\": 0,\n",
    "               \"summary\": 1,\n",
    "               \"listing_url\": 1,\n",
    "               \"score\": {\n",
    "                  \"$meta\": \"vectorSearchScore\"\n",
    "               }\n",
    "            }\n",
    "      }\n",
    "   ]\n",
    "\n",
    "   results = collection.aggregate(pipeline)\n",
    "\n",
    "   array_of_results = []\n",
    "   for doc in results:\n",
    "      array_of_results.append(doc)\n",
    "   return array_of_results"
   ]
  },
  {
   "cell_type": "code",
   "execution_count": 17,
   "id": "e6a8cadb",
   "metadata": {},
   "outputs": [
    {
     "name": "stdout",
     "output_type": "stream",
     "text": [
      "[{'listing_url': 'https://www.airbnb.com/rooms/10186755',\n",
      "  'score': 0.8083036541938782,\n",
      "  'summary': 'Near to underground metro station. Walking distance to seaside. '\n",
      "             '2 floors 1 entry. Husband, wife, girl and boy is living.'},\n",
      " {'listing_url': 'https://www.airbnb.com/rooms/10266175',\n",
      "  'score': 0.8018995523452759,\n",
      "  'summary': 'A beautiful and comfortable 1 Bedroom Air Conditioned Condo in '\n",
      "             'Makaha Valley - stunning Ocean & Mountain views All the '\n",
      "             'amenities of home, suited for longer stays. Full kitchen & large '\n",
      "             \"bathroom.  Several gas BBQ's for all guests to use & a large \"\n",
      "             'heated pool surrounded by reclining chairs to sunbathe.  The '\n",
      "             'Ocean you see in the pictures is not even a mile away, known as '\n",
      "             'the famous Makaha Surfing Beach. Golfing, hiking,snorkeling  '\n",
      "             'paddle boarding, surfing are all just minutes from the front '\n",
      "             'door.'},\n",
      " {'listing_url': 'https://www.airbnb.com/rooms/10264100',\n",
      "  'score': 0.796958327293396,\n",
      "  'summary': 'Having a large airy living room. The apartment is well divided. '\n",
      "             'Fully furnished and cozy. The building has a 24h doorman and '\n",
      "             'camera services in the corridors. It is very well located, close '\n",
      "             'to the beach, restaurants, pubs and several shops and '\n",
      "             'supermarkets. And it offers a good mobility being close to the '\n",
      "             'subway.'},\n",
      " {'listing_url': 'https://www.airbnb.com/rooms/10209136',\n",
      "  'score': 0.7964316606521606,\n",
      "  'summary': 'A friendly apartment block where everyone knows each other and '\n",
      "             'there is a strong communal vibe. Property has a huge backyard '\n",
      "             'with vege garden and skate ramp. 7min walk to the beach and 2min '\n",
      "             'to buses.'},\n",
      " {'listing_url': 'https://www.airbnb.com/rooms/1016739',\n",
      "  'score': 0.795964241027832,\n",
      "  'summary': 'Room 2  Private room in charming recently renovated federation '\n",
      "             'guest house at Coogee Beach. Prices are per room for 2 People '\n",
      "             'only. A queen  and a single bed. Not suitable for group booking '\n",
      "             'All rooms have  TV, desk, wardrobe, beds, unlimited wifi 2 mins '\n",
      "             'from the beach, cafes and transport. This is not a party house '\n",
      "             'but a safe and clean place to stay. Share bathrooms and '\n",
      "             'kitchen... All common areas are cleaned daily.'}]\n"
     ]
    }
   ],
   "source": [
    "import pprint\n",
    "pprint.pprint(get_query_results(\"beach house\"))\n"
   ]
  },
  {
   "cell_type": "code",
   "execution_count": null,
   "id": "582c79ef",
   "metadata": {},
   "outputs": [],
   "source": [
    "\n",
    "from gpt4all import GPT4All"
   ]
  },
  {
   "cell_type": "code",
   "execution_count": 19,
   "id": "b1f7b814",
   "metadata": {},
   "outputs": [],
   "source": [
    "local_llm_path = \"/Users/dharmendra.kumar/.cache/huggingface/hub/mistral-7b-openorca.gguf2.Q4_0.gguf/mistral-7b-openorca.gguf2.Q4_0.gguf\"\n",
    "local_llm = GPT4All(local_llm_path)"
   ]
  },
  {
   "cell_type": "code",
   "execution_count": 21,
   "id": "26ba1d7b",
   "metadata": {},
   "outputs": [
    {
     "name": "stdout",
     "output_type": "stream",
     "text": [
      "Answer: The question does not provide any information about HDFC Bank, as it only provides summaries of AirBnB listings and their links.\n"
     ]
    }
   ],
   "source": [
    "question = \"What is HDFC Bank.\"\n",
    "documents = get_query_results(question)\n",
    "\n",
    "text_documents = \"\"\n",
    "for doc in documents:\n",
    "    summary = doc.get(\"summary\", \"\")\n",
    "    link = doc.get(\"listing_url\", \"\")\n",
    "    string = f\"Summary: {summary} Link: {link}. \\n\"\n",
    "    text_documents += string\n",
    "\n",
    "prompt = f\"\"\"Use the following pieces of context to answer the question at the end.\n",
    "    {text_documents}\n",
    "    Question: {question}\n",
    "\"\"\"\n",
    "\n",
    "response = local_llm.generate(prompt)\n",
    "cleaned_response = response.replace('\\\\n', '\\n')\n",
    "print(cleaned_response)"
   ]
  },
  {
   "cell_type": "code",
   "execution_count": 29,
   "id": "a0750981",
   "metadata": {},
   "outputs": [
    {
     "ename": "SyntaxError",
     "evalue": "invalid syntax (179765028.py, line 1)",
     "output_type": "error",
     "traceback": [
      "  \u001b[36mCell\u001b[39m\u001b[36m \u001b[39m\u001b[32mIn[29]\u001b[39m\u001b[32m, line 1\u001b[39m\n\u001b[31m    \u001b[39m\u001b[31mconda activate local-mongodb-rag-chatbot\u001b[39m\n          ^\n\u001b[31mSyntaxError\u001b[39m\u001b[31m:\u001b[39m invalid syntax\n"
     ]
    }
   ],
   "source": [
    "conda activate local-mongodb-rag-chatbot\n",
    "conda install langchain -c conda-forge  "
   ]
  },
  {
   "cell_type": "code",
   "execution_count": null,
   "id": "97a5d7d5",
   "metadata": {},
   "outputs": [
    {
     "name": "stderr",
     "output_type": "stream",
     "text": [
      "huggingface/tokenizers: The current process just got forked, after parallelism has already been used. Disabling parallelism to avoid deadlocks...\n",
      "To disable this warning, you can either:\n",
      "\t- Avoid using `tokenizers` before the fork if possible\n",
      "\t- Explicitly set the environment variable TOKENIZERS_PARALLELISM=(true | false)\n"
     ]
    },
    {
     "name": "stdout",
     "output_type": "stream",
     "text": [
      "\u001b[1;32m2\u001b[0m\u001b[1;32m channel Terms of Service accepted\u001b[0m\n",
      "Channels:\n",
      " - conda-forge\n",
      " - defaults\n",
      "Platform: osx-arm64\n",
      "Collecting package metadata (repodata.json): done\n",
      "Solving environment: done\n",
      "\n",
      "\n",
      "==> WARNING: A newer version of conda exists. <==\n",
      "    current version: 25.7.0\n",
      "    latest version: 25.9.1\n",
      "\n",
      "Please update conda by running\n",
      "\n",
      "    $ conda update -n base -c defaults conda\n",
      "\n",
      "\n",
      "\n",
      "## Package Plan ##\n",
      "\n",
      "  environment location: /opt/miniconda3/envs/local-mongodb-rag-chatbot\n",
      "\n",
      "  added / updated specs:\n",
      "    - langchain-community\n",
      "\n",
      "\n",
      "The following packages will be downloaded:\n",
      "\n",
      "    package                    |            build\n",
      "    ---------------------------|-----------------\n",
      "    dataclasses-json-0.6.7     |     pyhd8ed1ab_1          30 KB  conda-forge\n",
      "    httpx-sse-0.4.3            |     pyhd8ed1ab_0          14 KB  conda-forge\n",
      "    langchain-community-0.3.30 |  py311hca03da5_0         3.7 MB\n",
      "    marshmallow-3.26.1         |     pyhd8ed1ab_0          92 KB  conda-forge\n",
      "    mypy_extensions-1.1.0      |     pyha770c72_0          11 KB  conda-forge\n",
      "    pydantic-settings-2.11.0   |     pyh3cfb1c2_0          40 KB  conda-forge\n",
      "    python-dotenv-1.1.1        |     pyhe01879c_0          25 KB  conda-forge\n",
      "    typing_inspect-0.9.0       |     pyhd8ed1ab_1          15 KB  conda-forge\n",
      "    ------------------------------------------------------------\n",
      "                                           Total:         4.0 MB\n",
      "\n",
      "The following NEW packages will be INSTALLED:\n",
      "\n",
      "  dataclasses-json   conda-forge/noarch::dataclasses-json-0.6.7-pyhd8ed1ab_1 \n",
      "  httpx-sse          conda-forge/noarch::httpx-sse-0.4.3-pyhd8ed1ab_0 \n",
      "  langchain-communi~ pkgs/main/osx-arm64::langchain-community-0.3.30-py311hca03da5_0 \n",
      "  marshmallow        conda-forge/noarch::marshmallow-3.26.1-pyhd8ed1ab_0 \n",
      "  mypy_extensions    conda-forge/noarch::mypy_extensions-1.1.0-pyha770c72_0 \n",
      "  pydantic-settings  conda-forge/noarch::pydantic-settings-2.11.0-pyh3cfb1c2_0 \n",
      "  python-dotenv      conda-forge/noarch::python-dotenv-1.1.1-pyhe01879c_0 \n",
      "  typing_inspect     conda-forge/noarch::typing_inspect-0.9.0-pyhd8ed1ab_1 \n",
      "\n",
      "\n",
      "\n",
      "Downloading and Extracting Packages:\n",
      "langchain-community- | 3.7 MB    |                                       |   0% \n",
      "marshmallow-3.26.1   | 92 KB     |                                       |   0% \u001b[A\n",
      "\n",
      "pydantic-settings-2. | 40 KB     |                                       |   0% \u001b[A\u001b[A\n",
      "\n",
      "\n",
      "dataclasses-json-0.6 | 30 KB     |                                       |   0% \u001b[A\u001b[A\u001b[A\n",
      "\n",
      "\n",
      "\n",
      "python-dotenv-1.1.1  | 25 KB     |                                       |   0% \u001b[A\u001b[A\u001b[A\u001b[A\n",
      "\n",
      "\n",
      "\n",
      "\n",
      "typing_inspect-0.9.0 | 15 KB     |                                       |   0% \u001b[A\u001b[A\u001b[A\u001b[A\u001b[A\n",
      "\n",
      "\n",
      "\n",
      "\n",
      "\n",
      "httpx-sse-0.4.3      | 14 KB     |                                       |   0% \u001b[A\u001b[A\u001b[A\u001b[A\u001b[A\u001b[A\n",
      "\n",
      "\n",
      "\n",
      "\n",
      "\n",
      "\n",
      "mypy_extensions-1.1. | 11 KB     |                                       |   0% \u001b[A\u001b[A\u001b[A\u001b[A\u001b[A\u001b[A\u001b[A\n",
      "\n",
      "\n",
      "\n",
      "python-dotenv-1.1.1  | 25 KB     | #######################2              |  63% \u001b[A\u001b[A\u001b[A\u001b[A\n",
      "\n",
      "\n",
      "\n",
      "python-dotenv-1.1.1  | 25 KB     | ##################################### | 100% \u001b[A\u001b[A\u001b[A\u001b[A\n",
      "\n",
      "\n",
      "dataclasses-json-0.6 | 30 KB     | ###################9                  |  54% \u001b[A\u001b[A\u001b[A\n",
      "\n",
      "\n",
      "dataclasses-json-0.6 | 30 KB     | ##################################### | 100% \u001b[A\u001b[A\u001b[A\n",
      "\n",
      "\n",
      "\n",
      "python-dotenv-1.1.1  | 25 KB     | ##################################### | 100% \u001b[A\u001b[A\u001b[A\u001b[A\n",
      "\n",
      "\n",
      "dataclasses-json-0.6 | 30 KB     | ##################################### | 100% \u001b[A\u001b[A\u001b[A\n",
      "marshmallow-3.26.1   | 92 KB     | ######4                               |  17% \u001b[A\n",
      "marshmallow-3.26.1   | 92 KB     | ##################################### | 100% \u001b[A\n",
      "marshmallow-3.26.1   | 92 KB     | ##################################### | 100% \u001b[A\n",
      "\n",
      "\n",
      "\n",
      "\n",
      "typing_inspect-0.9.0 | 15 KB     | ##################################### | 100% \u001b[A\u001b[A\u001b[A\u001b[A\u001b[A\n",
      "\n",
      "\n",
      "\n",
      "\n",
      "typing_inspect-0.9.0 | 15 KB     | ##################################### | 100% \u001b[A\u001b[A\u001b[A\u001b[A\u001b[A\n",
      "\n",
      "\n",
      "\n",
      "\n",
      "\n",
      "httpx-sse-0.4.3      | 14 KB     | ##################################### | 100% \u001b[A\u001b[A\u001b[A\u001b[A\u001b[A\u001b[A\n",
      "\n",
      "\n",
      "\n",
      "\n",
      "\n",
      "httpx-sse-0.4.3      | 14 KB     | ##################################### | 100% \u001b[A\u001b[A\u001b[A\u001b[A\u001b[A\u001b[A\n",
      "\n",
      "\n",
      "\n",
      "\n",
      "typing_inspect-0.9.0 | 15 KB     | ##################################### | 100% \u001b[A\u001b[A\u001b[A\u001b[A\u001b[A\n",
      "\n",
      "\n",
      "\n",
      "\n",
      "\n",
      "httpx-sse-0.4.3      | 14 KB     | ##################################### | 100% \u001b[A\u001b[A\u001b[A\u001b[A\u001b[A\u001b[A\n",
      "\n",
      "\n",
      "\n",
      "\n",
      "\n",
      "\n",
      "mypy_extensions-1.1. | 11 KB     | ##################################### | 100% \u001b[A\u001b[A\u001b[A\u001b[A\u001b[A\u001b[A\u001b[A\n",
      "\n",
      "\n",
      "\n",
      "\n",
      "\n",
      "\n",
      "mypy_extensions-1.1. | 11 KB     | ##################################### | 100% \u001b[A\u001b[A\u001b[A\u001b[A\u001b[A\u001b[A\u001b[A\n",
      "\n",
      "\n",
      "\n",
      "\n",
      "\n",
      "\n",
      "mypy_extensions-1.1. | 11 KB     | ##################################### | 100% \u001b[A\u001b[A\u001b[A\u001b[A\u001b[A\u001b[A\u001b[A\n",
      "\n",
      "pydantic-settings-2. | 40 KB     | ##############6                       |  40% \u001b[A\u001b[A\n",
      "\n",
      "pydantic-settings-2. | 40 KB     | ##################################### | 100% \u001b[A\u001b[A\n",
      "\n",
      "                                                                                \u001b[A\u001b[A\n",
      "                                                                                \u001b[A\n",
      "\n",
      "                                                                                \u001b[A\u001b[A\n",
      "\n",
      "\n",
      "                                                                                \u001b[A\u001b[A\u001b[A\n",
      "\n",
      "\n",
      "\n",
      "                                                                                \u001b[A\u001b[A\u001b[A\u001b[A\n",
      "\n",
      "\n",
      "\n",
      "\n",
      "                                                                                \u001b[A\u001b[A\u001b[A\u001b[A\u001b[A\n",
      "\n",
      "\n",
      "\n",
      "\n",
      "\n",
      "                                                                                \u001b[A\u001b[A\u001b[A\u001b[A\u001b[A\u001b[A\n",
      "\n",
      "\n",
      "\n",
      "\n",
      "\n",
      "\n",
      "                                                                                \u001b[A\u001b[A\u001b[A\u001b[A\u001b[A\u001b[A\u001b[A\n",
      "Preparing transaction: done\n",
      "Verifying transaction: done\n",
      "Executing transaction: done\n",
      "\n",
      "Note: you may need to restart the kernel to use updated packages.\n"
     ]
    }
   ],
   "source": [
    "\n",
    "conda install langchain-community -c conda-forge"
   ]
  },
  {
   "cell_type": "code",
   "execution_count": null,
   "id": "02a454fd",
   "metadata": {},
   "outputs": [],
   "source": [
    "# to load and split sample data by using the\n",
    "# Loads a PDF \n",
    "# Splits the data into chunks, specifying the chunk size (number of characters) and chunk overlap (number of overlapping characters between consecutive chunks).\n",
    "from langchain_community.document_loaders import PyPDFLoader\n",
    "from langchain.text_splitter import RecursiveCharacterTextSplitter\n"
   ]
  },
  {
   "cell_type": "code",
   "execution_count": 37,
   "id": "67607c08",
   "metadata": {},
   "outputs": [],
   "source": [
    "\n",
    "\n",
    "# if pypdf not present - conda install  pypdf -c conda-forge\n",
    "\n",
    "loader = PyPDFLoader(\"https://www.idfcfirstbank.com/content/dam/idfcfirstbank/pdf/financial-results/Investor-Presentation-Q2FY26-181025-Final.pdf\")\n",
    "data = loader.load()"
   ]
  },
  {
   "cell_type": "code",
   "execution_count": 38,
   "id": "9267c786",
   "metadata": {},
   "outputs": [],
   "source": [
    "text_splitter = RecursiveCharacterTextSplitter(chunk_size=400, chunk_overlap=20)\n",
    "documents = text_splitter.split_documents(data)"
   ]
  },
  {
   "cell_type": "code",
   "execution_count": 39,
   "id": "0eaeb4ff",
   "metadata": {},
   "outputs": [],
   "source": [
    "# Prepare documents for insertion\n",
    "docs_to_insert = [{\n",
    "    \"text\": doc.page_content,\n",
    "    \"embedding\": get_embedding(doc.page_content)\n",
    "} for doc in documents]"
   ]
  },
  {
   "cell_type": "code",
   "execution_count": 40,
   "id": "85515a8f",
   "metadata": {},
   "outputs": [],
   "source": [
    "from pymongo import MongoClient\n",
    "\n",
    "# Connect to your MongoDB deployment\n",
    "client = MongoClient(\"mongodb://localhost:62834/?directConnection=true&serverSelectionTimeoutMS=2000&appName=local-rag\")\n",
    "collection = client[\"local_rag_db1\"][\"test\"]\n",
    "\n",
    "# Insert documents into the collection\n",
    "result = collection.insert_many(docs_to_insert)"
   ]
  },
  {
   "cell_type": "code",
   "execution_count": 43,
   "id": "bc7511f5",
   "metadata": {},
   "outputs": [
    {
     "name": "stdout",
     "output_type": "stream",
     "text": [
      "Polling to check if the index is ready. This may take up to a minute.\n",
      "vector_index1 is ready for querying.\n"
     ]
    }
   ],
   "source": [
    "from pymongo.operations import SearchIndexModel\n",
    "import time\n",
    "\n",
    "# Create your index model, then create the search index\n",
    "index_name=\"vector_index1\"\n",
    "search_index_model = SearchIndexModel(\n",
    "  definition = {\n",
    "    \"fields\": [\n",
    "      {\n",
    "        \"type\": \"vector\",\n",
    "        \"numDimensions\": 1024,\n",
    "        \"path\": \"embedding\",\n",
    "        \"similarity\": \"cosine\"\n",
    "      }\n",
    "    ]\n",
    "  },\n",
    "  name = index_name,\n",
    "  type = \"vectorSearch\"\n",
    ")\n",
    "collection.create_search_index(model=search_index_model)\n",
    "\n",
    "# Wait for initial sync to complete\n",
    "print(\"Polling to check if the index is ready. This may take up to a minute.\")\n",
    "predicate=None\n",
    "if predicate is None:\n",
    "   predicate = lambda index: index.get(\"queryable\") is True\n",
    "\n",
    "while True:\n",
    "   indices = list(collection.list_search_indexes(index_name))\n",
    "   if len(indices) and predicate(indices[0]):\n",
    "      break\n",
    "   time.sleep(5)\n",
    "print(index_name + \" is ready for querying.\")"
   ]
  },
  {
   "cell_type": "code",
   "execution_count": 44,
   "id": "21c7c799",
   "metadata": {},
   "outputs": [
    {
     "name": "stdout",
     "output_type": "stream",
     "text": [
      "[{'text': 'Our Vision\\n'\n",
      "          'BUILDING A WORLD CLASS BANK\\n'\n",
      "          'GUIDED BY\\n'\n",
      "          'ETHICS\\n'\n",
      "          'POWERED BY\\n'\n",
      "          'TECHNOLOGY\\n'\n",
      "          'BE A FORCE FOR\\n'\n",
      "          'SOCIAL GOOD\\n'\n",
      "          '2'},\n",
      " {'text': 'forward-looking statements by terminology such as “aim”, '\n",
      "          '“anticipate”, “believe”, “continue”, “could”, “estimate”, “expect”, '\n",
      "          '“intend”, “may”, “objective”, “goal”, \\n'\n",
      "          '“plan”, “potential”, “proforma”, “project”, “pursue”, “shall”, '\n",
      "          '“should”, “will”, “would”, or other words or phrases of similar '\n",
      "          'import. These forward-looking'},\n",
      " {'text': 'Branch embedded vicinity basis sourcing\\n'\n",
      "          'Strong portfolio management framework \\n'\n",
      "          'leading to healthy book\\n'\n",
      "          'Section 2: Building a Universal Bank\\n'\n",
      "          '13'},\n",
      " {'text': 'errors, systems malfunctions, or cyber security incidents; (f) '\n",
      "          'volatility in interest rates and other market conditions; and(g) '\n",
      "          'any adverse changes to the Indian \\n'\n",
      "          'economy.\\n'\n",
      "          'This presentation is for general information purposes only, without '\n",
      "          'regard to any specific objectives, financial situations or '\n",
      "          'informational needs of any particular'},\n",
      " {'text': 'information, opinion, projection, forecast or estimate set forth '\n",
      "          'herein, changes or subsequently becomes inaccurate.\\n'\n",
      "          'Certain statements contained in this presentation that are not '\n",
      "          'statements of historical fact constitute “forward-looking '\n",
      "          'statements.” You can generally identify'}]\n"
     ]
    }
   ],
   "source": [
    "# Define a function to run vector search queries\n",
    "def get_query_results(query):\n",
    "  \"\"\"Gets results from a vector search query.\"\"\"\n",
    "\n",
    "  query_embedding = get_embedding(query)\n",
    "  pipeline = [\n",
    "      {\n",
    "            \"$vectorSearch\": {\n",
    "              \"index\": \"vector_index1\",\n",
    "              \"queryVector\": query_embedding,\n",
    "              \"path\": \"embedding\",\n",
    "              \"exact\": True,\n",
    "              \"limit\": 5\n",
    "            }\n",
    "      }, {\n",
    "            \"$project\": {\n",
    "              \"_id\": 0,\n",
    "              \"text\": 1\n",
    "         }\n",
    "      }\n",
    "  ]\n",
    "\n",
    "  results = collection.aggregate(pipeline)\n",
    "\n",
    "  array_of_results = []\n",
    "  for doc in results:\n",
    "      array_of_results.append(doc)\n",
    "  return array_of_results\n",
    "\n",
    "# Test the function with a sample query\n",
    "import pprint\n",
    "pprint.pprint(get_query_results(\"AI technology\"))"
   ]
  },
  {
   "cell_type": "code",
   "execution_count": 45,
   "id": "302d940a",
   "metadata": {},
   "outputs": [
    {
     "name": "stdout",
     "output_type": "stream",
     "text": [
      "('\\n'\n",
      " 'Answer: The bank name is not mentioned in the given context. However, it can '\n",
      " 'be inferred that the results are for FY25 (Fiscal Year 2024-2025).')\n"
     ]
    }
   ],
   "source": [
    "question = \"What is Your Bank Name? and For whihc yesr this result is published\"\n",
    "documents = get_query_results(question)\n",
    "\n",
    "text_documents = \"\"\n",
    "for doc in documents:\n",
    "    summary = doc.get(\"text\", \"\")\n",
    "    link = doc.get(\"_id\", \"\")\n",
    "    string = f\"Summary: {summary} with _id: {link}. \\n\"\n",
    "    text_documents += string\n",
    "\n",
    "prompt = f\"\"\"Use the following pieces of context to answer the question at the end.\n",
    "    {text_documents}\n",
    "    Question: {question}\n",
    "\"\"\"\n",
    "\n",
    "response = local_llm.generate(prompt)\n",
    "cleaned_response = response.replace('\\\\n', '\\n')\n",
    "\n",
    "pprint.pprint(cleaned_response)"
   ]
  }
 ],
 "metadata": {
  "kernelspec": {
   "display_name": "Python (local-mongodb-rag-chatbot)",
   "language": "python",
   "name": "local-mongodb-rag-chatbot"
  },
  "language_info": {
   "codemirror_mode": {
    "name": "ipython",
    "version": 3
   },
   "file_extension": ".py",
   "mimetype": "text/x-python",
   "name": "python",
   "nbconvert_exporter": "python",
   "pygments_lexer": "ipython3",
   "version": "3.11.14"
  }
 },
 "nbformat": 4,
 "nbformat_minor": 5
}
